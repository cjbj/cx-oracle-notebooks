{
 "cells": [
  {
   "cell_type": "markdown",
   "metadata": {},
   "source": [
    "![Banner](images/banner.png)"
   ]
  },
  {
   "cell_type": "markdown",
   "metadata": {},
   "source": [
    "# Calling PL/SQL\n",
    "\n",
    "Documentation reference link: [PL/SQL Execution](https://cx-oracle.readthedocs.io/en/latest/user_guide/plsql_execution.html)\n",
    "\n",
    "PL/SQL is a 'stored' procedural language that is stored and run inside the database itself. PL/SQL lets you capture business logic for reuse across all your applications.  You can call stored procedures and functions easily from cx_Oracle."
   ]
  },
  {
   "cell_type": "code",
   "execution_count": null,
   "metadata": {},
   "outputs": [],
   "source": [
    "import cx_Oracle\n",
    "import platform\n",
    "import os\n",
    "\n",
    "if platform.system() == 'Darwin':\n",
    "    cx_Oracle.init_oracle_client(lib_dir = os.environ.get(\"HOME\")+\"/instantclient_19_8\")\n",
    "elif platform.system() == 'Windows':\n",
    "     cx_Oracle.init_oracle_client(lib_dir = r\"C:\\oracle\\instantclient_19_14\")"
   ]
  },
  {
   "cell_type": "code",
   "execution_count": null,
   "metadata": {},
   "outputs": [],
   "source": [
    "un = \"pythondemo\"\n",
    "pw = \"welcome\"\n",
    "cs = \"localhost/orclpdb1\"\n",
    "\n",
    "connection = cx_Oracle.connect(user=un, password=pw, dsn=cs)"
   ]
  },
  {
   "cell_type": "markdown",
   "metadata": {},
   "source": [
    "## PL/SQL Procedures\n",
    "\n",
    "This shows the PL/SQL procedure `MYPROC` used in this demo:"
   ]
  },
  {
   "cell_type": "code",
   "execution_count": null,
   "metadata": {},
   "outputs": [],
   "source": [
    "with connection.cursor() as cursor:\n",
    "   \n",
    "    cursor.execute(\"select dbms_metadata.get_ddl('PROCEDURE', 'MYPROC') from dual\")\n",
    "    ddl, = cursor.fetchone()\n",
    "    print(ddl.read())"
   ]
  },
  {
   "cell_type": "markdown",
   "metadata": {},
   "source": [
    "You can use `callproc()` to call the procedure.  Bind variables are passed by position:"
   ]
  },
  {
   "cell_type": "code",
   "execution_count": null,
   "metadata": {},
   "outputs": [],
   "source": [
    "with connection.cursor() as cursor:\n",
    "\n",
    "    myinvar  = 22\n",
    "    myoutvar = cursor.var(int)    # allocate a 'variable' of integer type to hold the OUT bind parameter\n",
    "\n",
    "    cursor.callproc('myproc', [myinvar, myoutvar])\n",
    "    print(myoutvar.getvalue())"
   ]
  },
  {
   "cell_type": "markdown",
   "metadata": {},
   "source": [
    "You can also call PL/SQL procedures via an 'anonymous' PL/SQL block.  This can be useful if you want to use named bind placeholders:"
   ]
  },
  {
   "cell_type": "code",
   "execution_count": null,
   "metadata": {},
   "outputs": [],
   "source": [
    "with connection.cursor() as cursor:\n",
    "\n",
    "    myinvar  = 33\n",
    "    myoutvar = cursor.var(int)\n",
    "\n",
    "    cursor.execute(' begin myproc(:v1, :v2); end;', {\"v1\": myinvar, \"v2\": myoutvar})\n",
    "    print(myoutvar.getvalue())"
   ]
  },
  {
   "cell_type": "markdown",
   "metadata": {},
   "source": [
    "## PL/SQL Functions\n",
    "\n",
    "This shows the PL/SQL function `MYFUNC` used in this demo:"
   ]
  },
  {
   "cell_type": "code",
   "execution_count": null,
   "metadata": {},
   "outputs": [],
   "source": [
    "with connection.cursor() as cursor:\n",
    "    \n",
    "    cursor.execute(\"select dbms_metadata.get_ddl('FUNCTION', 'MYFUNC') from dual\")\n",
    "    ddl, = cursor.fetchone()\n",
    "    print(ddl.read())"
   ]
  },
  {
   "cell_type": "markdown",
   "metadata": {},
   "source": [
    "You can use `callfunc()` to call the function. Bind variables are passed by position.  The second argument to `callfun()` is the type of the PL/SQL function return value.  Here it is an integer:"
   ]
  },
  {
   "cell_type": "code",
   "execution_count": null,
   "metadata": {},
   "outputs": [],
   "source": [
    "with connection.cursor() as cursor:\n",
    "\n",
    "    data = \"abc\"\n",
    "    id = 3\n",
    "    res = cursor.callfunc('myfunc', int, (data, id))\n",
    "    print(res)"
   ]
  },
  {
   "cell_type": "markdown",
   "metadata": {},
   "source": [
    "Similar to calling PL/SQL procedures, you can also invoke PL/SQL procedures via an anonymous block, and optionally used named bind placeholders:"
   ]
  },
  {
   "cell_type": "code",
   "execution_count": null,
   "metadata": {},
   "outputs": [],
   "source": [
    "with connection.cursor() as cursor:\n",
    "\n",
    "    data  = \"def\"\n",
    "    id = 4\n",
    "    ret = cursor.var(int)\n",
    "\n",
    "    cursor.execute(' begin :ret := myfunc(:data, :id); end;', {\"ret\": ret, \"data\": data, \"id\": id})\n",
    "    print(ret.getvalue())"
   ]
  },
  {
   "cell_type": "markdown",
   "metadata": {},
   "source": [
    "## REF CURSORS\n",
    "\n",
    "REF CURSORS let result sets be returned to cx_Oracle, commonly from PL/SQL.\n",
    "\n",
    "Here is the PL/SQL procedure used in this example:"
   ]
  },
  {
   "cell_type": "code",
   "execution_count": null,
   "metadata": {
    "scrolled": true
   },
   "outputs": [],
   "source": [
    "with connection.cursor() as cursor:\n",
    "\n",
    "    cursor.execute(\"\"\"select text from all_source \n",
    "                      where name = 'MYREFCURSORPROC' and type = 'PROCEDURE' \n",
    "                      order by line\"\"\")\n",
    "    rows = cursor.fetchall()\n",
    "    for r, in rows:\n",
    "        print(r, end=\"\")"
   ]
  },
  {
   "cell_type": "markdown",
   "metadata": {},
   "source": [
    "Using `callproc()` as shown before, you can call the PL/SQL procedure. The `ref_cursor` variable needs to be defined as a cursor so it can hold the returned REF CURSOR.  This second cursor is then simply iterated over exactly like a cursor for simple SELECT would be:"
   ]
  },
  {
   "cell_type": "code",
   "execution_count": null,
   "metadata": {},
   "outputs": [],
   "source": [
    "with connection.cursor() as cursor:\n",
    "    ref_cursor = connection.cursor()\n",
    "\n",
    "    cursor.callproc(\"myrefcursorproc\", (2, 6, ref_cursor))\n",
    "\n",
    "    print(\"Rows between 2 and 6:\")\n",
    "    for row in ref_cursor:\n",
    "        print(row)"
   ]
  },
  {
   "cell_type": "markdown",
   "metadata": {},
   "source": [
    "## Implicit Cursors\n",
    "\n",
    "Instead of binding a cursor to get a REF CURSOR, the `dbms_sql.return_result()` procedure can alternatively return a result set back which is fetched in cx_Oracle using `getimplicitresults()`:"
   ]
  },
  {
   "cell_type": "code",
   "execution_count": null,
   "metadata": {},
   "outputs": [],
   "source": [
    "with connection.cursor() as cursor:\n",
    "\n",
    "    cursor.execute(\"\"\"\n",
    "            declare\n",
    "                c1 sys_refcursor;\n",
    "                c2 sys_refcursor;\n",
    "            begin\n",
    "                open c1 for\n",
    "                select * from ParentTable;\n",
    "                dbms_sql.return_result(c1);\n",
    "\n",
    "                open c2 for\n",
    "                select * from ChildTable;\n",
    "                dbms_sql.return_result(c2);\n",
    "            end;\"\"\")\n",
    "\n",
    "    for resultSet in cursor.getimplicitresults():\n",
    "        print(\"Result Set:\")\n",
    "        for row in resultSet:\n",
    "           print(row)\n"
   ]
  },
  {
   "cell_type": "markdown",
   "metadata": {},
   "source": [
    "# Edition Based Redefinition (EBR)\n",
    "\n",
    "Documentation reference link: [Edition-Based Redefinition (EBR)](https://cx-oracle.readthedocs.io/en/latest/user_guide/plsql_execution.html#edition-based-redefinition-ebr)\n",
    "\n",
    "EBR lets you have different implementations of PL/SQL objects with the same signature.  This is useful for upgrading applications. It lets you do advance testing before deciding to drop the old implementations because different users can execute different versions of the objects..  You can create you new objects in a new 'edition'.  At runtime you choose which edition should be used, giving you all the objects created in that new edition,"
   ]
  },
  {
   "cell_type": "code",
   "execution_count": null,
   "metadata": {},
   "outputs": [],
   "source": [
    "user_ed           = \"pythoneditions\"\n",
    "password_ed       = \"welcome\""
   ]
  },
  {
   "cell_type": "markdown",
   "metadata": {},
   "source": [
    "The sample setup script already created an edition:\n",
    "\n",
    "```\n",
    "alter user pythoneditions enable editions;\n",
    "\n",
    "create edition python_e1;\n",
    "```"
   ]
  },
  {
   "cell_type": "markdown",
   "metadata": {},
   "source": [
    "Create functions in the base edition:"
   ]
  },
  {
   "cell_type": "code",
   "execution_count": null,
   "metadata": {},
   "outputs": [],
   "source": [
    "with cx_Oracle.connect(user=user_ed, password=password_ed, dsn=cs) as connection:\n",
    "    with connection.cursor() as cursor:\n",
    "\n",
    "        cursor.execute(\"\"\"\n",
    "            create or replace function test_editions return varchar2 as\n",
    "            begin\n",
    "                return 'First procedure created in base edition';\n",
    "            end;\"\"\")\n",
    "        \n",
    "        cursor.execute(\"\"\"\n",
    "            create or replace function second_procedure return varchar2 as\n",
    "            begin\n",
    "                return 'Second procedure created in base edition';\n",
    "            end;\"\"\")\n",
    "\n",
    "print(\"Done\")"
   ]
  },
  {
   "cell_type": "markdown",
   "metadata": {},
   "source": [
    "Create a new function with same signature as `test_editions` but in a connection using the 'python_e1' edition:"
   ]
  },
  {
   "cell_type": "code",
   "execution_count": null,
   "metadata": {},
   "outputs": [],
   "source": [
    "with cx_Oracle.connect(user=user_ed, password=password_ed, dsn=cs, edition=\"python_e1\") as connection_ed1:\n",
    "    with connection_ed1.cursor() as cursor_ed1:\n",
    "\n",
    "        cursor_ed1.execute(\"\"\"\n",
    "                create or replace function test_editions return varchar2 as\n",
    "                begin\n",
    "                    return 'First procedure created in python_e1 edition';\n",
    "                end;\"\"\")\n",
    "\n",
    "print(\"Done\")"
   ]
  },
  {
   "cell_type": "markdown",
   "metadata": {},
   "source": [
    "Both procedures can be called in the base edition:"
   ]
  },
  {
   "cell_type": "code",
   "execution_count": null,
   "metadata": {},
   "outputs": [],
   "source": [
    "with cx_Oracle.connect(user=user_ed, password=password_ed, dsn=cs) as connection_edb:\n",
    "    with connection_edb.cursor() as cursor_edb:\n",
    "\n",
    "        result = cursor_edb.callfunc(\"test_editions\", str)\n",
    "        print(result)\n",
    "\n",
    "        result = cursor_edb.callfunc(\"second_procedure\", str)\n",
    "        print(result)"
   ]
  },
  {
   "cell_type": "markdown",
   "metadata": {},
   "source": [
    "After connecting to the 'python_e1' edition, the calling the overloaded function executes the updated code.  The second function was not overloaded so it executes the original code:"
   ]
  },
  {
   "cell_type": "code",
   "execution_count": null,
   "metadata": {},
   "outputs": [],
   "source": [
    "with cx_Oracle.connect(user=user_ed, password=password_ed, dsn=cs, edition=\"python_e1\") as connection_ed1:\n",
    "     with connection_ed1.cursor() as cursor_ed1:\n",
    "\n",
    "        result = cursor_ed1.callfunc(\"test_editions\", str)\n",
    "        print(result)\n",
    "\n",
    "        result = cursor_ed1.callfunc(\"second_procedure\", str)\n",
    "        print(result)"
   ]
  }
 ],
 "metadata": {
  "kernelspec": {
   "display_name": "Python 3 (ipykernel)",
   "language": "python",
   "name": "python3"
  },
  "language_info": {
   "codemirror_mode": {
    "name": "ipython",
    "version": 3
   },
   "file_extension": ".py",
   "mimetype": "text/x-python",
   "name": "python",
   "nbconvert_exporter": "python",
   "pygments_lexer": "ipython3",
   "version": "3.9.6"
  }
 },
 "nbformat": 4,
 "nbformat_minor": 4
}
