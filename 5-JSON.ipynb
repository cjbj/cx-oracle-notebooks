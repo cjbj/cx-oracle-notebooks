{
 "cells": [
  {
   "cell_type": "markdown",
   "id": "a9825ce4",
   "metadata": {},
   "source": [
    "![Banner](images/banner.png)"
   ]
  },
  {
   "cell_type": "markdown",
   "id": "7b00c7cf",
   "metadata": {},
   "source": [
    "# JSON\n",
    "\n",
    "Documentation reference link: [Working with the JSON Data Type](https://cx-oracle.readthedocs.io/en/latest/user_guide/json_data_type.html)"
   ]
  },
  {
   "cell_type": "code",
   "execution_count": 1,
   "id": "4933ee95",
   "metadata": {},
   "outputs": [],
   "source": [
    "import cx_Oracle\n",
    "import os\n",
    "import platform\n",
    "import time\n",
    "\n",
    "if platform.system() == 'Darwin':\n",
    "    cx_Oracle.init_oracle_client(lib_dir=os.environ.get(\"HOME\")+\"/instantclient_19_8\")\n",
    "elif platform.system() == 'Windows':\n",
    "     cx_Oracle.init_oracle_client(lib_dir=r\"C:\\oracle\\instantclient_21_3\")"
   ]
  },
  {
   "cell_type": "code",
   "execution_count": 12,
   "id": "1e091ca8",
   "metadata": {},
   "outputs": [],
   "source": [
    "un = \"pythondemo\"\n",
    "pw = \"welcome\"\n",
    "cs = \"localhost/orclpdb1\"\n",
    "\n",
    "connection = cx_Oracle.connect(user=un, password=pw, dsn=cs)"
   ]
  },
  {
   "cell_type": "markdown",
   "id": "a81ba26a",
   "metadata": {},
   "source": [
    "### JSON Storage:\n",
    "\n",
    "- Oracle Database 12c uses LOB storage\n",
    "\n",
    "- Oracle Database 21c introduces OSON storage: new optimized native binary format\n",
    "\n",
    "**Careful coding is required for apps that run in a mixed version environment**\n",
    "\n",
    "The first JSON example assumes you are using Oracle Client 21c and Oracle Database 21c."
   ]
  },
  {
   "cell_type": "code",
   "execution_count": 5,
   "id": "caa04809",
   "metadata": {},
   "outputs": [],
   "source": [
    "with connection.cursor() as cursor:\n",
    "    try:\n",
    "        cursor.execute(\"drop table customers\")\n",
    "    except:\n",
    "        ;\n",
    "    cursor.execute(\"create table customers (k number, json_data json)\")"
   ]
  },
  {
   "cell_type": "markdown",
   "id": "a84dfaeb",
   "metadata": {},
   "source": [
    "With 21c, you can bind Python objects directly to the JSON column:"
   ]
  },
  {
   "cell_type": "code",
   "execution_count": 6,
   "id": "e14826f4",
   "metadata": {},
   "outputs": [
    {
     "ename": "DatabaseError",
     "evalue": "DPI-1050: Oracle Client library is at version 19.8 but version 21.0 or higher is needed",
     "output_type": "error",
     "traceback": [
      "\u001b[0;31m---------------------------------------------------------------------------\u001b[0m",
      "\u001b[0;31mDatabaseError\u001b[0m                             Traceback (most recent call last)",
      "\u001b[0;32m/var/folders/8b/48mxxl5d4msfr4tp6l8xjfg00000gn/T/ipykernel_60727/2137861171.py\u001b[0m in \u001b[0;36m<module>\u001b[0;34m\u001b[0m\n\u001b[1;32m     11\u001b[0m \u001b[0;34m\u001b[0m\u001b[0m\n\u001b[1;32m     12\u001b[0m \u001b[0;32mwith\u001b[0m \u001b[0mconnection\u001b[0m\u001b[0;34m.\u001b[0m\u001b[0mcursor\u001b[0m\u001b[0;34m(\u001b[0m\u001b[0;34m)\u001b[0m \u001b[0;32mas\u001b[0m \u001b[0mcursor\u001b[0m\u001b[0;34m:\u001b[0m\u001b[0;34m\u001b[0m\u001b[0;34m\u001b[0m\u001b[0m\n\u001b[0;32m---> 13\u001b[0;31m     \u001b[0mcursor\u001b[0m\u001b[0;34m.\u001b[0m\u001b[0msetinputsizes\u001b[0m\u001b[0;34m(\u001b[0m\u001b[0mcx_Oracle\u001b[0m\u001b[0;34m.\u001b[0m\u001b[0mDB_TYPE_JSON\u001b[0m\u001b[0;34m)\u001b[0m\u001b[0;34m\u001b[0m\u001b[0;34m\u001b[0m\u001b[0m\n\u001b[0m\u001b[1;32m     14\u001b[0m     \u001b[0mcursor\u001b[0m\u001b[0;34m.\u001b[0m\u001b[0mexecute\u001b[0m\u001b[0;34m(\u001b[0m\u001b[0;34m\"insert into customers (k, json_data) values (1, :jbv)\"\u001b[0m\u001b[0;34m,\u001b[0m \u001b[0;34m[\u001b[0m\u001b[0mjson_data\u001b[0m\u001b[0;34m]\u001b[0m\u001b[0;34m)\u001b[0m\u001b[0;34m\u001b[0m\u001b[0;34m\u001b[0m\u001b[0m\n\u001b[1;32m     15\u001b[0m \u001b[0;34m\u001b[0m\u001b[0m\n",
      "\u001b[0;31mDatabaseError\u001b[0m: DPI-1050: Oracle Client library is at version 19.8 but version 21.0 or higher is needed"
     ]
    }
   ],
   "source": [
    "import datetime\n",
    "\n",
    "json_data = [\n",
    "    2.78,\n",
    "    True,\n",
    "    'Ocean Beach',\n",
    "    b'Some bytes',\n",
    "    {'keyA': 1, 'KeyB': 'Melbourne'},\n",
    "    datetime.date.today()\n",
    "]\n",
    "\n",
    "with connection.cursor() as cursor:\n",
    "    cursor.setinputsizes(cx_Oracle.DB_TYPE_JSON)\n",
    "    cursor.execute(\"insert into customers (k, json_data) values (1, :jbv)\", [json_data])\n",
    "    \n",
    "print(\"Done\")"
   ]
  },
  {
   "cell_type": "markdown",
   "id": "c21d71e3",
   "metadata": {},
   "source": [
    "Querying returns the JSON in a familiar Python data structure:"
   ]
  },
  {
   "cell_type": "code",
   "execution_count": 7,
   "id": "d84a494d",
   "metadata": {},
   "outputs": [],
   "source": [
    "with connection.cursor() as cursor:\n",
    "    for row, in cursor.execute(\"select c.json_data from customers c where k = 1\"):\n",
    "        print(row)\n",
    "        \n",
    "# With Oracle Client and Oracle Database 21c, this gives:\n",
    "# [Decimal('2.78'), True, 'Ocean Beach', b'Some bytes', {'keyA': Decimal('1'), 'KeyB': 'Melbourne'}, datetime.datetime(2022, 3, 4, 0, 0)]"
   ]
  },
  {
   "cell_type": "markdown",
   "id": "e18fc3b4",
   "metadata": {},
   "source": [
    "If you don't have 21c, then you can still easily work with JSON.  Store it using BLOB and work with JSON strings. The Python \"json\" package can be used with many types:"
   ]
  },
  {
   "cell_type": "code",
   "execution_count": 10,
   "id": "2b32e0d7",
   "metadata": {},
   "outputs": [
    {
     "name": "stdout",
     "output_type": "stream",
     "text": [
      "b'[2.78, true, \"Ocean Beach\", {\"keyA\": 1, \"KeyB\": \"Melbourne\"}]'\n"
     ]
    }
   ],
   "source": [
    "import json\n",
    "\n",
    "with connection.cursor() as cursor:\n",
    "    try:\n",
    "        cursor.execute(\"drop table customersblob\")\n",
    "    except:\n",
    "        ;\n",
    "    cursor.execute(\"\"\"create table customersblob (k number, \n",
    "                                              json_data BLOB CHECK (json_data IS JSON)) \n",
    "                                                        LOB (json_data) STORE AS (CACHE)\"\"\")\n",
    " \n",
    "# INSERT\n",
    "\n",
    "with connection.cursor() as cursor:\n",
    "    data = json_data = [\n",
    "        2.78,\n",
    "        True,\n",
    "        'Ocean Beach',\n",
    "        {'keyA': 1, 'KeyB': 'Melbourne'},\n",
    "    ]\n",
    "    cursor.execute(\"insert into customersblob (k, json_data) values (2, :jbv)\", [json.dumps(data)])\n",
    " \n",
    "# FETCH\n",
    "\n",
    "# For JSON < 1 GB, use an output type handler for performance\n",
    "def output_type_handler(cursor, name, default_type, size, precision, scale):\n",
    "    if default_type == cx_Oracle.BLOB:\n",
    "        return cursor.var(cx_Oracle.LONG_BINARY, arraysize=cursor.arraysize)\n",
    "\n",
    "connection.outputtypehandler = output_type_handler\n",
    "\n",
    "with connection.cursor() as cursor:\n",
    "    for row, in cursor.execute(\"SELECT c.json_data FROM customersblob c where k = 2\"):\n",
    "        print(row)\n",
    "    \n",
    "connection.rollback()   "
   ]
  },
  {
   "cell_type": "markdown",
   "id": "18324018",
   "metadata": {},
   "source": [
    "# Simple Oracle Document Access (SODA)\n",
    "\n",
    "Documentation reference link: [SODA](https://cx-oracle.readthedocs.io/en/latest/user_guide/soda.html)"
   ]
  },
  {
   "cell_type": "markdown",
   "id": "60206136",
   "metadata": {},
   "source": [
    "SODA allows documents to be inserted, queried, and retrieved from Oracle Database using a set of NoSQL-style cx_Oracle methods.  SODA can also be used in other languages like Java, Node.js and PL/SQL.\n",
    "\n",
    "By default SODA stores JSON documents, but this can be changed."
   ]
  },
  {
   "cell_type": "markdown",
   "id": "b0df1d1e",
   "metadata": {},
   "source": [
    "Connection Pools support a SODA Metadata Cache, which helps performance. This requires Oracle Client 19.11 or later:"
   ]
  },
  {
   "cell_type": "code",
   "execution_count": 37,
   "id": "9fb3020e",
   "metadata": {},
   "outputs": [],
   "source": [
    "r,u,v,i,e = cx_Oracle.clientversion()\n",
    "\n",
    "if (r > 19 or (r == 19 and u >= 11)):\n",
    "    pool = cx_Oracle.SessionPool(user=un, password=pw, dsn=cs, \n",
    "                             min=4, max=4, increment=0,\n",
    "                             soda_metadata_cache=True)\n",
    "    connection = pool.acquire()\n"
   ]
  },
  {
   "cell_type": "markdown",
   "id": "452704b2",
   "metadata": {},
   "source": [
    "The general recommendation for simple SODA usage is to enable autocommit, but be wary of overusing it when you are inserting or updating multiple documents."
   ]
  },
  {
   "cell_type": "code",
   "execution_count": 38,
   "id": "5277494a",
   "metadata": {},
   "outputs": [],
   "source": [
    "connection.autocommit = True"
   ]
  },
  {
   "cell_type": "markdown",
   "id": "0ed80343",
   "metadata": {},
   "source": [
    "Start by creating the parent object for SODA:"
   ]
  },
  {
   "cell_type": "code",
   "execution_count": 39,
   "id": "f95f8e38",
   "metadata": {},
   "outputs": [],
   "source": [
    "soda = connection.getSodaDatabase()"
   ]
  },
  {
   "cell_type": "markdown",
   "id": "958a7c23",
   "metadata": {},
   "source": [
    "Clean up so the demo runs identically each time:"
   ]
  },
  {
   "cell_type": "code",
   "execution_count": 40,
   "id": "2ffe36b6",
   "metadata": {},
   "outputs": [],
   "source": [
    "# Get a collection\n",
    "collection = soda.openCollection(\"mycollection\")\n",
    "\n",
    "# Drop the collection if it already exists\n",
    "if collection is not None:\n",
    "    collection.drop()"
   ]
  },
  {
   "cell_type": "markdown",
   "id": "df2af8ed",
   "metadata": {},
   "source": [
    "If you are using Oracle Database 21c with older Oracle Client libraries note the default collection metadata changed in 21c to the improved JSON type.  To avoid compatibility issues, you can explicitly specify the  metadata and use BLOB storage."
   ]
  },
  {
   "cell_type": "code",
   "execution_count": 41,
   "id": "fa253343",
   "metadata": {},
   "outputs": [],
   "source": [
    "# Explicit metadata is used for maximum version interoperability.\n",
    "# Refer to the documentation.\n",
    "metadata = {\n",
    "    \"keyColumn\": {\n",
    "        \"name\": \"ID\"\n",
    "    },\n",
    "    \"contentColumn\": {\n",
    "        \"name\": \"JSON_DOCUMENT\",\n",
    "        \"sqlType\": \"BLOB\"\n",
    "    },\n",
    "    \"versionColumn\": {\n",
    "        \"name\": \"VERSION\",\n",
    "        \"method\": \"UUID\"\n",
    "    },\n",
    "    \"lastModifiedColumn\": {\n",
    "        \"name\": \"LAST_MODIFIED\"\n",
    "    },\n",
    "    \"creationTimeColumn\": {\n",
    "        \"name\": \"CREATED_ON\"\n",
    "    }\n",
    "}"
   ]
  },
  {
   "cell_type": "markdown",
   "id": "bf249eac",
   "metadata": {},
   "source": [
    "Create a new SODA collection:"
   ]
  },
  {
   "cell_type": "code",
   "execution_count": 42,
   "id": "0e2a84d1",
   "metadata": {},
   "outputs": [],
   "source": [
    "collection = soda.openCollection(\"mycollection\")\n",
    "if collection is None:\n",
    "    collection = soda.createCollection(\"mycollection\", metadata)"
   ]
  },
  {
   "cell_type": "markdown",
   "id": "1c4781c9",
   "metadata": {},
   "source": [
    "When inserting a document, a system generated key is created by default:"
   ]
  },
  {
   "cell_type": "code",
   "execution_count": 43,
   "id": "949ca4c0",
   "metadata": {},
   "outputs": [
    {
     "name": "stdout",
     "output_type": "stream",
     "text": [
      "The key of the new SODA document is:  7954D1DC809A4F1CBFDDA72614C87FA2\n"
     ]
    }
   ],
   "source": [
    "content = {'name': 'Matilda', 'address': {'city': 'Melbourne'}}\n",
    "doc = collection.insertOneAndGet(content)\n",
    "\n",
    "key = doc.key\n",
    "print('The key of the new SODA document is: ', key)"
   ]
  },
  {
   "cell_type": "markdown",
   "id": "da1dc5e6",
   "metadata": {},
   "source": [
    "An operation builder using `find()` allows documents to be acted on. A series of non-terminals can be chained together followed by an action."
   ]
  },
  {
   "cell_type": "code",
   "execution_count": 44,
   "id": "00a4231b",
   "metadata": {},
   "outputs": [],
   "source": [
    "doc = collection.find().key(key).getOne() # A SodaDocument"
   ]
  },
  {
   "cell_type": "markdown",
   "id": "8b80db6f",
   "metadata": {},
   "source": [
    "Fetched documents can be accessed in different ways:"
   ]
  },
  {
   "cell_type": "code",
   "execution_count": 45,
   "id": "cfcc240c",
   "metadata": {},
   "outputs": [
    {
     "name": "stdout",
     "output_type": "stream",
     "text": [
      "SODA document dictionary:\n",
      "<class 'dict'>\n",
      "{'name': 'Matilda', 'address': {'city': 'Melbourne'}}\n",
      "SODA document string:\n",
      "<class 'str'>\n",
      "{\"name\": \"Matilda\", \"address\": {\"city\": \"Melbourne\"}}\n"
     ]
    }
   ],
   "source": [
    "content = doc.getContent()                # A JavaScript object\n",
    "print('SODA document dictionary:')\n",
    "print(type(content))\n",
    "print(content)\n",
    "\n",
    "content = doc.getContentAsString()        # A JSON string\n",
    "print('SODA document string:')\n",
    "print(type(content))\n",
    "print(content)"
   ]
  },
  {
   "cell_type": "markdown",
   "id": "2329df20",
   "metadata": {},
   "source": [
    "To replace document contents, we can find the document matching the previously returned key:"
   ]
  },
  {
   "cell_type": "code",
   "execution_count": 46,
   "id": "ccbd36b9",
   "metadata": {},
   "outputs": [
    {
     "data": {
      "text/plain": [
       "True"
      ]
     },
     "execution_count": 46,
     "metadata": {},
     "output_type": "execute_result"
    }
   ],
   "source": [
    "content = {'name': 'Matilda', 'address': {'city': 'Sydney'}}\n",
    "collection.find().key(key).replaceOne(content)"
   ]
  },
  {
   "cell_type": "markdown",
   "id": "d45a8b00",
   "metadata": {},
   "source": [
    "Insert some more documents:"
   ]
  },
  {
   "cell_type": "code",
   "execution_count": 47,
   "id": "76a11015",
   "metadata": {},
   "outputs": [
    {
     "name": "stdout",
     "output_type": "stream",
     "text": [
      "Done\n"
     ]
    }
   ],
   "source": [
    "content = [\n",
    "    {'name': 'Venkat', 'address': {'city': 'Bengaluru'}},\n",
    "    {'name': 'May', 'address': {'city': 'London'}},\n",
    "    {'name': 'Sally-Ann', 'address': {'city': 'San Francisco'}}\n",
    "]\n",
    "collection.insertMany(content)\n",
    "\n",
    "print(\"Done\")"
   ]
  },
  {
   "cell_type": "markdown",
   "id": "2b9e4ab5",
   "metadata": {},
   "source": [
    "Query by Example (QBE) syntax makes it easier to search for documents.\n",
    "\n",
    "To find all documents with names like 'Ma%':"
   ]
  },
  {
   "cell_type": "code",
   "execution_count": 48,
   "id": "238e4fa4",
   "metadata": {},
   "outputs": [
    {
     "name": "stdout",
     "output_type": "stream",
     "text": [
      "Matilda\n",
      "May\n"
     ]
    }
   ],
   "source": [
    "documents = collection.find().filter({'name': {'$like': 'Ma%'}}).getDocuments()\n",
    "for d in documents:\n",
    "    content = d.getContent()\n",
    "    print(content[\"name\"])"
   ]
  },
  {
   "cell_type": "markdown",
   "id": "8827a9d8",
   "metadata": {},
   "source": [
    "Count all documents:"
   ]
  },
  {
   "cell_type": "code",
   "execution_count": 49,
   "id": "095a771d",
   "metadata": {},
   "outputs": [
    {
     "name": "stdout",
     "output_type": "stream",
     "text": [
      "Collection has 4 documents\n"
     ]
    }
   ],
   "source": [
    "c = collection.find().count()\n",
    "print('Collection has', c, 'documents')"
   ]
  },
  {
   "cell_type": "markdown",
   "id": "3363e723",
   "metadata": {},
   "source": [
    "Remove documents with cities containing 'g':"
   ]
  },
  {
   "cell_type": "code",
   "execution_count": 50,
   "id": "ecf32cd9",
   "metadata": {},
   "outputs": [
    {
     "name": "stdout",
     "output_type": "stream",
     "text": [
      "Dropped 1 documents\n"
     ]
    }
   ],
   "source": [
    "c = collection.find().filter({'address.city': {'$regex': '.*g.*'}}).remove()\n",
    "print('Dropped', c, 'documents')"
   ]
  },
  {
   "cell_type": "markdown",
   "id": "d1abe728",
   "metadata": {},
   "source": [
    "Drop the collection:"
   ]
  },
  {
   "cell_type": "code",
   "execution_count": 51,
   "id": "079baeef",
   "metadata": {},
   "outputs": [
    {
     "name": "stdout",
     "output_type": "stream",
     "text": [
      "Collection was dropped\n"
     ]
    }
   ],
   "source": [
    "if collection.drop():\n",
    "    print('Collection was dropped')"
   ]
  }
 ],
 "metadata": {
  "kernelspec": {
   "display_name": "Python 3 (ipykernel)",
   "language": "python",
   "name": "python3"
  },
  "language_info": {
   "codemirror_mode": {
    "name": "ipython",
    "version": 3
   },
   "file_extension": ".py",
   "mimetype": "text/x-python",
   "name": "python",
   "nbconvert_exporter": "python",
   "pygments_lexer": "ipython3",
   "version": "3.9.6"
  }
 },
 "nbformat": 4,
 "nbformat_minor": 5
}
