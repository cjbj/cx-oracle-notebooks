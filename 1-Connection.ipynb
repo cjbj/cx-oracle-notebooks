{
 "cells": [
  {
   "cell_type": "markdown",
   "metadata": {},
   "source": [
    "![Banner](images/banner.png)"
   ]
  },
  {
   "cell_type": "markdown",
   "metadata": {},
   "source": [
    "# cx_Oracle 8 Connection"
   ]
  },
  {
   "cell_type": "markdown",
   "metadata": {},
   "source": [
    "# Architecture\n",
    "\n",
    "Documentation reference link: [Introduction to cx_Oracle](https://cx-oracle.readthedocs.io/en/latest/user_guide/introduction.html)"
   ]
  },
  {
   "cell_type": "markdown",
   "metadata": {},
   "source": [
    "![Architecture](images/architecture.png)"
   ]
  },
  {
   "cell_type": "markdown",
   "metadata": {},
   "source": [
    "# Installation\n",
    "\n",
    "Documentation reference link: [cx_Oracle 8 Installation](https://cx-oracle.readthedocs.io/en/latest/user_guide/installation.html)"
   ]
  },
  {
   "cell_type": "markdown",
   "metadata": {},
   "source": [
    "**Install cx_Oracle**\n",
    "\n",
    "Install with a command like one of the following:\n",
    "\n",
    "```\n",
    "$ python -m pip install cx_Oracle --upgrade\n",
    "$ python -m pip install cx_Oracle --upgrade --user\n",
    "$ python -m pip install cx_Oracle --upgrade --user --proxy=http://proxy.example.com:80\n",
    "```"
   ]
  },
  {
   "cell_type": "markdown",
   "metadata": {},
   "source": [
    "**Install Oracle Instant Client**\n",
    "\n",
    "Only needed if Python is run on a computer that does **not** have Oracle Database installed.\n",
    "\n",
    "Download and extract the Basic or Basic Light package from [oracle.com/database/technologies/instant-client.html](https://www.oracle.com/database/technologies/instant-client.html).\n",
    "\n",
    "Make sure to download the correct architecture for your operating system.  If your Python is 32-bit, then you will need a 32-bit Instant Client.\n",
    "\n",
    "Installation can be automated:\n",
    "\n",
    "On Windows:\n",
    "```\n",
    "wget  https://download.oracle.com/otn_software/[...]/instantclient-basic-windows.x64-19.12.0.0.0dbru.zip\n",
    "unzip instantclient-basic-windows.x64-19.12.0.0.0dbru.zip\n",
    "```\n",
    "\n",
    "On macOS:\n",
    "\n",
    "```\n",
    "cd $HOME/Downloads\n",
    "\n",
    "curl -O https://download.oracle.com/otn_software/mac/instantclient/198000/instantclient-basic-macos.x64-19.8.0.0.0dbru.dmg\n",
    "\n",
    "hdiutil mount instantclient-basic-macos.x64-19.8.0.0.0dbru.dmg\n",
    "\n",
    "/Volumes/instantclient-basic-macos.x64-19.8.0.0.0dbru/install_ic.sh\n",
    "\n",
    "hdiutil unmount /Volumes/instantclient-basic-macos.x64-19.8.0.0.0dbru\n",
    "```"
   ]
  },
  {
   "cell_type": "markdown",
   "metadata": {},
   "source": [
    "**Other Install Choices**\n",
    "\n",
    "On Linux you can alternatively install cx_Oracle and Instant Client RPM packages from yum.oracle.com, see [yum.oracle.com/oracle-linux-python.html](https://yum.oracle.com/oracle-linux-python.html)"
   ]
  },
  {
   "cell_type": "markdown",
   "metadata": {},
   "source": [
    "# Initialization\n",
    "\n",
    "Documentation reference link: [cx_Oracle 8 Initialization](https://cx-oracle.readthedocs.io/en/latest/user_guide/initialaization.html)\n",
    "\n",
    "When you run cx_Oracle it needs to be able to load the Oracle Client libraries.  There are several ways this can be done."
   ]
  },
  {
   "cell_type": "code",
   "execution_count": 1,
   "metadata": {},
   "outputs": [],
   "source": [
    "import cx_Oracle\n",
    "\n",
    "import os\n",
    "import sys\n",
    "import platform\n",
    "\n",
    "try:\n",
    "    \n",
    "    if platform.system() == \"Darwin\":\n",
    "        cx_Oracle.init_oracle_client(lib_dir=os.environ.get(\"HOME\")+\"/instantclient_19_8\")\n",
    "        \n",
    "    elif platform.system() == \"Windows\":\n",
    "        cx_Oracle.init_oracle_client(lib_dir=r\"C:\\oracle\\instantclient_19_14\")\n",
    "        \n",
    "    # else assume system library search path includes Oracle Client libraries\n",
    "    # On Linux, must use ldconfig or set LD_LIBRARY_PATH, as described in installation documentation.\n",
    "    \n",
    "except Exception as err:\n",
    "    print(\"Whoops!\")\n",
    "    print(err);\n",
    "    sys.exit(1);\n"
   ]
  },
  {
   "cell_type": "markdown",
   "metadata": {},
   "source": [
    "# Connecting to a Database\n",
    "\n",
    "**Connections are used for executing SQL, PL/SQL and SODA calls in an Oracle Database**\n",
    "\n",
    "Documentation reference link: [Connecting to Oracle Database](https://cx-oracle.readthedocs.io/en/latest/user_guide/connection_handling.html)"
   ]
  },
  {
   "cell_type": "code",
   "execution_count": 2,
   "metadata": {},
   "outputs": [],
   "source": [
    "# Credentials\n",
    "un = \"pythondemo\"\n",
    "pw = \"welcome\""
   ]
  },
  {
   "cell_type": "markdown",
   "metadata": {},
   "source": [
    "Instead of hard coding the password, you could prompt for a value, pass it as an environment variable, or use Oracle \"external authentication\"."
   ]
  },
  {
   "cell_type": "markdown",
   "metadata": {},
   "source": [
    "### Easy Connect Syntax: \"hostname/servicename\""
   ]
  },
  {
   "cell_type": "code",
   "execution_count": 3,
   "metadata": {},
   "outputs": [
    {
     "name": "stdout",
     "output_type": "stream",
     "text": [
      "<cx_Oracle.Connection to pythondemo@localhost/orclpdb1>\n"
     ]
    }
   ],
   "source": [
    "cs = \"localhost/orclpdb1\"\n",
    "\n",
    "connection = cx_Oracle.connect(user=un, password=pw, dsn=cs)\n",
    "print(connection)"
   ]
  },
  {
   "cell_type": "markdown",
   "metadata": {},
   "source": [
    "Oracle Client 19c has improved [Easy Connect Plus](https://www.oracle.com/pls/topic/lookup?ctx=dblatest&id=GUID-8C85D289-6AF3-41BC-848B-BF39D32648BA) syntax:\n",
    "\n",
    "```\n",
    "cs = \"tcps://my.cloud.com:1522/orclpdb1?connect_timeout=4&expire_time=10\"\n",
    "```\n",
    "\n",
    "<!-- See the [technical brief](https://download.oracle.com/ocomdocs/global/Oracle-Net-19c-Easy-Connect-Plus.pdf). -->"
   ]
  },
  {
   "cell_type": "markdown",
   "metadata": {},
   "source": [
    "### Oracle Network and Oracle Client Configuration Files\n",
    "\n",
    "**Optional configuration files can be used to alter connection behaviors, such as network encryption.**\n",
    "\n",
    "Documentation reference link: [Optional configuration files](https://cx-oracle.readthedocs.io/en/latest/user_guide/initialization.html#optional-oracle-net-configuration-files)"
   ]
  },
  {
   "cell_type": "raw",
   "metadata": {},
   "source": [
    "\n",
    "# tnsnames.ora in /opt/oracle/configdir\n",
    "    \n",
    "highperfdb = (description= \n",
    "               (retry_count=5)(retry_delay=3)\n",
    "               (address=(protocol=tcps)(port=1522)(host=xxxxxx.oraclecloud.com))\n",
    "               (connect_data=(service_name=yyyyyyyyyy.oraclecloud.com))\n",
    "               (security=(ssl_server_cert_dn=\n",
    "                 \"CN=zzzzzzzz.oraclecloud.com,OU=Oracle ADB,O=Oracle Corporation,L=Redwood City,ST=California,C=US\")))\n",
    "                 "
   ]
  },
  {
   "cell_type": "raw",
   "metadata": {},
   "source": [
    "\n",
    "# sqlnet.ora in /opt/oracle/configdir\n",
    "\n",
    "sqlnet.outbound_connect_timeout=5\n",
    "sqlnet.expire_time=2\n",
    "\n",
    "sqlnet.encryption_client = required\n",
    "sqlnet.encryption_types_client = (AES256)\n"
   ]
  },
  {
   "cell_type": "raw",
   "metadata": {},
   "source": [
    "\n",
    "<?xml version=\"1.0\"?>\n",
    "\n",
    "<!-- \n",
    "     oraacess.xml in /opt/oracle/configdir\n",
    "-->\n",
    "\n",
    "<oraaccess xmlns=\"http://xmlns.oracle.com/oci/oraaccess\"\n",
    "  xmlns:oci=\"http://xmlns.oracle.com/oci/oraaccess\"\n",
    "  schemaLocation=\"http://xmlns.oracle.com/oci/oraaccess\n",
    "  http://xmlns.oracle.com/oci/oraaccess.xsd\">\n",
    "  <default_parameters>\n",
    "    <statement_cache>\n",
    "      <size>100</size> \n",
    "    </statement_cache>\n",
    "    <result_cache>\n",
    "      <max_rset_rows>100</max_rset_rows> \n",
    "      <max_rset_size>10K</max_rset_size> \n",
    "      <max_size>64M</max_size> \n",
    "    </result_cache>\n",
    "  </default_parameters>\n",
    "</oraaccess>\n"
   ]
  },
  {
   "cell_type": "markdown",
   "metadata": {},
   "source": [
    "With the files above in `/opt/oracle/configdir`, your python application can look like:\n",
    "\n",
    "```\n",
    "# myapp.py\n",
    "\n",
    "cx_Oracle.init_oracle_client(\n",
    "    lib_dir=os.environ.get(\"HOME\")+\"/instantclient_19_3\",\n",
    "    config_dir=\"/opt/oracle/configdir\"\n",
    ")\n",
    "\n",
    "connection = cx_Oracle.connect(user=un, password=pw, dsn=\"highperfdb\")\n",
    "```"
   ]
  },
  {
   "cell_type": "markdown",
   "metadata": {},
   "source": [
    "## Connection Types"
   ]
  },
  {
   "cell_type": "markdown",
   "metadata": {},
   "source": [
    "### Standalone Connections\n",
    "\n",
    "Standalone connections are simple to create."
   ]
  },
  {
   "cell_type": "markdown",
   "metadata": {},
   "source": [
    "![Stand-alone Connection](images/standalone-connection.png)"
   ]
  },
  {
   "cell_type": "code",
   "execution_count": 4,
   "metadata": {},
   "outputs": [
    {
     "name": "stdout",
     "output_type": "stream",
     "text": [
      "<cx_Oracle.Connection to pythondemo@localhost/orclpdb1>\n"
     ]
    }
   ],
   "source": [
    "# Stand-alone Connections\n",
    "\n",
    "connection = cx_Oracle.connect(user=un, password=pw, dsn=cs)\n",
    "\n",
    "print(connection)"
   ]
  },
  {
   "cell_type": "markdown",
   "metadata": {},
   "source": [
    "### Pooled Connections"
   ]
  },
  {
   "cell_type": "markdown",
   "metadata": {},
   "source": [
    "#### Pools are highly recommended if you have:\n",
    "- a lot of connections that will be used for short periods of time\n",
    "- or a small number of connections that are idle for long periods of time\n",
    "\n",
    "#### Pool advantages\n",
    "- Reduced cost of setting up and tearing down connections\n",
    "- Dead connection detection\n",
    "- Connection- and runtime- load balancing (CLB and RLB)\n",
    "- Support for Application Continuity\n",
    "- Support for DRCP"
   ]
  },
  {
   "cell_type": "markdown",
   "metadata": {},
   "source": [
    "![Pooled connection](images/pooled-connection.png)"
   ]
  },
  {
   "cell_type": "code",
   "execution_count": 5,
   "metadata": {},
   "outputs": [
    {
     "name": "stdout",
     "output_type": "stream",
     "text": [
      "Got a connection\n"
     ]
    }
   ],
   "source": [
    "# Pooled Connections\n",
    "\n",
    "# Call once during application initization\n",
    "pool = cx_Oracle.SessionPool(user=un, password=pw, dsn=cs, threaded=True, \n",
    "                             min=1, max=20, increment=1)\n",
    "\n",
    "# Get a connection when needed in the application body\n",
    "with pool.acquire() as connection:\n",
    "    # do_something_useful(connection)\n",
    "    print(\"Got a connection\")\n"
   ]
  },
  {
   "cell_type": "markdown",
   "metadata": {},
   "source": [
    "**Tip** Use a fixed size pool `min` = `max` and `increment = 0`.  See [Guideline for Preventing Connection Storms: Use Static Pools](https://www.oracle.com/pls/topic/lookup?ctx=dblatest&id=GUID-7DFBA826-7CC0-4D16-B19C-31D168069B54)."
   ]
  },
  {
   "cell_type": "markdown",
   "metadata": {},
   "source": [
    "### Setting Connection \"Session\" State\n",
    "\n",
    "Documentation reference link: [Session CallBacks for Setting Pooled Connection State](https://cx-oracle.readthedocs.io/en/latest/user_guide/connection_handling.html#session-callbacks-for-setting-pooled-connection-state)\n",
    "\n",
    "Use a 'session callback' to efficiently set state such as NLS settings.\n",
    "\n",
    "Session state is stored in each session in the pool and will be available to the next user of the session.  (Note this is different to transaction state which is rolled back when connections are released to the pool)"
   ]
  },
  {
   "cell_type": "code",
   "execution_count": 6,
   "metadata": {},
   "outputs": [
    {
     "ename": "DatabaseError",
     "evalue": "ORA-00942: Tabelle oder View nicht vorhanden",
     "output_type": "error",
     "traceback": [
      "\u001b[0;31m---------------------------------------------------------------------------\u001b[0m",
      "\u001b[0;31mDatabaseError\u001b[0m                             Traceback (most recent call last)",
      "\u001b[0;32m/var/folders/8b/48mxxl5d4msfr4tp6l8xjfg00000gn/T/ipykernel_63761/3446741467.py\u001b[0m in \u001b[0;36m<module>\u001b[0;34m\u001b[0m\n\u001b[1;32m     12\u001b[0m \u001b[0;32mwith\u001b[0m \u001b[0mpool\u001b[0m\u001b[0;34m.\u001b[0m\u001b[0macquire\u001b[0m\u001b[0;34m(\u001b[0m\u001b[0;34m)\u001b[0m \u001b[0;32mas\u001b[0m \u001b[0mconnection\u001b[0m\u001b[0;34m:\u001b[0m\u001b[0;34m\u001b[0m\u001b[0;34m\u001b[0m\u001b[0m\n\u001b[1;32m     13\u001b[0m     \u001b[0;32mwith\u001b[0m \u001b[0mconnection\u001b[0m\u001b[0;34m.\u001b[0m\u001b[0mcursor\u001b[0m\u001b[0;34m(\u001b[0m\u001b[0;34m)\u001b[0m \u001b[0;32mas\u001b[0m \u001b[0mcursor\u001b[0m\u001b[0;34m:\u001b[0m\u001b[0;34m\u001b[0m\u001b[0;34m\u001b[0m\u001b[0m\n\u001b[0;32m---> 14\u001b[0;31m         \u001b[0mcursor\u001b[0m\u001b[0;34m.\u001b[0m\u001b[0mexecute\u001b[0m\u001b[0;34m(\u001b[0m\u001b[0;34m\"\"\"SELECT * FROM DOES_NOT_EXIST\"\"\"\u001b[0m\u001b[0;34m)\u001b[0m  \u001b[0;31m# Error message is in French\u001b[0m\u001b[0;34m\u001b[0m\u001b[0;34m\u001b[0m\u001b[0m\n\u001b[0m",
      "\u001b[0;31mDatabaseError\u001b[0m: ORA-00942: Tabelle oder View nicht vorhanden"
     ]
    }
   ],
   "source": [
    "\n",
    "# Set some NLS state for a connection: Only invoked for new sessions\n",
    "def initSession(connection, requestedTag):\n",
    "    cursor = connection.cursor()\n",
    "    cursor.execute(\"\"\"ALTER SESSION SET NLS_DATE_FORMAT = 'YYYY-MM-DD HH24:MI' \n",
    "                                        NLS_LANGUAGE = GERMAN\"\"\")\n",
    "\n",
    "# Create the pool with session callback defined\n",
    "pool = cx_Oracle.SessionPool(user=un, password=pw, dsn=cs, \n",
    "                             sessionCallback=initSession, min=1, max=4, increment=1, threaded=True)\n",
    "\n",
    "# Acquire a connection from the pool (will always have the new NLS setting)\n",
    "with pool.acquire() as connection:\n",
    "    with connection.cursor() as cursor:\n",
    "        cursor.execute(\"\"\"SELECT * FROM DOES_NOT_EXIST\"\"\")  # Error message is in French\n"
   ]
  },
  {
   "cell_type": "markdown",
   "metadata": {},
   "source": [
    "The callback has an optional 'tagging' capability (not shown) that allows different connections to have different state for different application requirements."
   ]
  },
  {
   "cell_type": "markdown",
   "metadata": {},
   "source": [
    "#### Callback benefit comparison\n",
    "\n",
    "For a simple web service that is invoked 1000 times, and does 1000 queries.\n",
    "\n",
    "![session callback comparison](images/callback-comparison.png)"
   ]
  },
  {
   "cell_type": "markdown",
   "metadata": {},
   "source": [
    "### Closing Connections"
   ]
  },
  {
   "cell_type": "markdown",
   "metadata": {},
   "source": [
    "Close connections when not needed.  This is important for pooled connections.\n",
    "\n",
    "```\n",
    "connection.close()\n",
    "```\n",
    "\n",
    "To avoid resource closing order issues, you may want to use `with` or let resources be closed at end of scope:\n",
    "\n",
    "```\n",
    "with pool.acquire() as connection:\n",
    "    do_something(connection)\n",
    "```"
   ]
  },
  {
   "cell_type": "markdown",
   "metadata": {},
   "source": [
    "## Database Resident Connection Pooling\n",
    "\n",
    "**Connection pooling on the database tier**\n",
    "\n",
    "Documentation reference link: [Database Resident Connection Pooling (DRCP)](https://cx-oracle.readthedocs.io/en/latest/user_guide/connection_handling.html#database-resident-connection-pooling-drcp)"
   ]
  },
  {
   "cell_type": "markdown",
   "metadata": {},
   "source": [
    "Dedicated server processes are the default in the database, but DRCP is an alternative when the database server is short of memory."
   ]
  },
  {
   "cell_type": "markdown",
   "metadata": {},
   "source": [
    "![DRCP architecture](images/drcp-architecture.png)"
   ]
  },
  {
   "cell_type": "markdown",
   "metadata": {},
   "source": [
    "Use DRCP if and only if:\n",
    "- The database computer doesn't have enough memory to keep all application connections open concurrently\n",
    "- When you have thousands of users which need access to a database server session for a short period of time\n",
    "- Applications mostly use same database credentials, and have identical session settings\n",
    "\n",
    "Using DRCP in conjunction with Python Connection Pooling is recommended."
   ]
  },
  {
   "cell_type": "markdown",
   "metadata": {},
   "source": [
    "#### Memory example with 5000 application users and a DRCP pool of size 100\n",
    "![DRCP memory comparison](images/drcp-comparison.png)"
   ]
  },
  {
   "cell_type": "markdown",
   "metadata": {},
   "source": [
    "In Python, the connect string must request a pooled server.  For best reuse, set a connection class and use the 'SELF' purity when getting a connection from the pool.\n",
    "\n",
    "```\n",
    "pool = cx_Oracle.SessionPool(user=un, password=pw, dsn=\"dbhost.example.com/orcl:pooled\")\n",
    "\n",
    "connection = pool.acquire(cclass=\"MYCLASS\", purity=cx_Oracle.ATTR_PURITY_SELF)\n",
    "```\n",
    "\n",
    "Don't forget to start the pool first!:\n",
    "```\n",
    "SQL> execute dbms_connection_pool.start_pool()\n",
    "```"
   ]
  },
  {
   "cell_type": "markdown",
   "metadata": {},
   "source": [
    "# Connecting to Autonomous Database in Oracle Cloud"
   ]
  },
  {
   "cell_type": "markdown",
   "metadata": {},
   "source": [
    "If you haven't seen it, try our \"Always Free\" service that gives free access to Oracle DB and other cloud resources\n",
    "\n",
    "![Banner](images/cloudhome.png)"
   ]
  },
  {
   "cell_type": "markdown",
   "metadata": {},
   "source": [
    "ADB connections use \"wallets\" for mutual TLS to provide strong security.\n",
    "\n",
    "Click the \"DB Connection\" button:"
   ]
  },
  {
   "cell_type": "markdown",
   "metadata": {},
   "source": [
    "![Banner](images/adbconnection.png)"
   ]
  },
  {
   "cell_type": "markdown",
   "metadata": {},
   "source": [
    "And download the wallet zip:"
   ]
  },
  {
   "cell_type": "markdown",
   "metadata": {},
   "source": [
    "![Banner](images/wallet.png)"
   ]
  },
  {
   "cell_type": "markdown",
   "metadata": {},
   "source": [
    "Unzip and extract the `cwallet.sso` file, and optionally the `tnsnames.ora` and `sqlnet.ora` files.\n",
    "\n",
    "```\n",
    "-rw-r--r--   1 cjones  staff   6725 15 Aug 00:12 cwallet.sso\n",
    "-rw-r--r--   1 cjones  staff    134 15 Aug 10:13 sqlnet.ora\n",
    "-rw-r--r--   1 cjones  staff   1801 15 Aug 00:12 tnsnames.ora\n",
    "```\n",
    "\n",
    "Keep `cwallet.sso` secure."
   ]
  },
  {
   "cell_type": "code",
   "execution_count": null,
   "metadata": {},
   "outputs": [],
   "source": [
    "# You still need a DB username and password.\n",
    "cloud_user = \"cj\"\n",
    "cloud_password = os.environ.get(\"CLOUD_PASSWORD\")\n",
    "\n",
    "# \"Easy Connect\" syntax can be inferred from the tnsnames.ora file entries.\n",
    "# The wallet_location is the directory containing cwallet.sso.\n",
    "# When using \"Easy Connect\", no other files from the zip are needed\n",
    "\n",
    "# cloud_connect_string = \"cjdbmelb_high\"\n",
    "cloud_cs = \"tcps://abc.oraclecloud.com:1522/anc_cjdbmelb_high.adb.oraclecloud.com\" \\\n",
    "           \"?wallet_location=/home/cjones/CJDBMELB/\"\n",
    "\n",
    "connection = cx_Oracle.connect(user=cloud_user, password=cloud_password, dsn=cloud_cs)\n",
    "\n",
    "with connection.cursor() as cursor:\n",
    "    sql = \"select user from dual\"\n",
    "    for r, in cursor.execute(sql):\n",
    "        print(\"User is\", r)"
   ]
  },
  {
   "cell_type": "markdown",
   "metadata": {},
   "source": [
    "## STOP PRESS: Instant Client 19.14+ or 21.5+ NEWS\n",
    "\n",
    "**You can use 1-way TLS without wallets**  See [Easy wallet-less connections to Oracle Autonomous Databases in Python](https://blogs.oracle.com/opal/post/easy-way-to-connect-python-applications-to-oracle-autonomous-databases).\n",
    "\n",
    "**You can use Oracle IAM tokens for authentication**"
   ]
  }
 ],
 "metadata": {
  "kernelspec": {
   "display_name": "Python 3 (ipykernel)",
   "language": "python",
   "name": "python3"
  },
  "language_info": {
   "codemirror_mode": {
    "name": "ipython",
    "version": 3
   },
   "file_extension": ".py",
   "mimetype": "text/x-python",
   "name": "python",
   "nbconvert_exporter": "python",
   "pygments_lexer": "ipython3",
   "version": "3.9.6"
  }
 },
 "nbformat": 4,
 "nbformat_minor": 4
}
